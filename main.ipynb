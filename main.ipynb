{
 "cells": [
  {
   "cell_type": "markdown",
   "metadata": {},
   "source": [
    "### ENES UÇAR - 21040101029\n",
    "### Bilgisayar Mühendisliği\n",
    "### Github: https://github.com/enesucar/MachineLearningFinalProject"
   ]
  },
  {
   "cell_type": "markdown",
   "metadata": {},
   "source": [
    "#### Imports"
   ]
  },
  {
   "cell_type": "code",
   "execution_count": 91,
   "metadata": {},
   "outputs": [],
   "source": [
    "import pandas as pd\n",
    "from sklearn import preprocessing, svm, metrics\n",
    "from sklearn.metrics import confusion_matrix, accuracy_score, f1_score, precision_score, recall_score\n",
    "from sklearn.neighbors import KNeighborsClassifier\n",
    "from sklearn.naive_bayes import GaussianNB\n",
    "from sklearn.neural_network import MLPClassifier\n",
    "from sklearn.model_selection import train_test_split, GridSearchCV\n",
    "import matplotlib.pyplot as plt"
   ]
  },
  {
   "cell_type": "markdown",
   "metadata": {},
   "source": [
    "#### Dataset"
   ]
  },
  {
   "cell_type": "code",
   "execution_count": 92,
   "metadata": {},
   "outputs": [],
   "source": [
    "headerList = [\n",
    "  'pregnant', \n",
    "  'oral_glucose_tolerance_test', \n",
    "  'diastolic_blood_pressure', \n",
    "  'triceps_skinfold_thickness', \n",
    "  'serum_insulin', \n",
    "  'body_mass_index', \n",
    "  'diabetes_pedigree_function', \n",
    "  'age', \n",
    "  'class_variable']\n",
    "\n",
    "df = pd.read_csv(\"data-set.txt\",  sep='\t', names=headerList)"
   ]
  },
  {
   "cell_type": "markdown",
   "metadata": {},
   "source": [
    "### Normalize"
   ]
  },
  {
   "cell_type": "code",
   "execution_count": 93,
   "metadata": {},
   "outputs": [],
   "source": [
    "min_max_scaler = preprocessing.MinMaxScaler()\n",
    "normalized_features = min_max_scaler.fit_transform(df)\n",
    "df = pd.DataFrame(normalized_features, index=df.index, columns=df.columns)"
   ]
  },
  {
   "cell_type": "markdown",
   "metadata": {},
   "source": [
    "### X and Y Values"
   ]
  },
  {
   "cell_type": "code",
   "execution_count": 94,
   "metadata": {},
   "outputs": [],
   "source": [
    "x = df[[\n",
    "  'pregnant', \n",
    "  'oral_glucose_tolerance_test', \n",
    "  'diastolic_blood_pressure', \n",
    "  'triceps_skinfold_thickness', \n",
    "  'serum_insulin', \n",
    "  'body_mass_index', \n",
    "  'diabetes_pedigree_function', \n",
    "  'age']\n",
    "  ].values\n",
    "\n",
    "y = df['class_variable'].values"
   ]
  },
  {
   "cell_type": "markdown",
   "metadata": {},
   "source": [
    "### Metrics"
   ]
  },
  {
   "cell_type": "code",
   "execution_count": 95,
   "metadata": {},
   "outputs": [],
   "source": [
    "def get_accuracy(y_test, y_pred):\n",
    "    return accuracy_score(y_test, y_pred)\n",
    "\n",
    "def get_f1(y_test, y_pred):\n",
    "    return f1_score(y_test, y_pred, average = \"weighted\")\n",
    "\n",
    "def get_precision(y_test, y_pred):\n",
    "    return precision_score(y_test, y_pred, average = \"weighted\")\n",
    "\n",
    "def get_recall(y_test, y_pred):\n",
    "    return recall_score(y_test, y_pred, average = \"weighted\")\n",
    "\n",
    "def get_confusion_matrix(y_test, y_pred):\n",
    "    return metrics.confusion_matrix(y_test, y_pred)\n",
    "\n",
    "def get_metrics(y_test, y_pred):\n",
    "  return { \n",
    "      \"accuarcy\": get_accuracy(y_test, y_pred),\n",
    "      \"f1\": get_f1(y_test, y_pred),\n",
    "      \"precision\": get_precision(y_test, y_pred),\n",
    "      \"recall\": get_recall(y_test, y_pred),\n",
    "      \"confusion_matrix\": get_confusion_matrix(y_test, y_pred)\n",
    "  }"
   ]
  },
  {
   "cell_type": "markdown",
   "metadata": {},
   "source": [
    "### Naive Bayes"
   ]
  },
  {
   "cell_type": "code",
   "execution_count": 96,
   "metadata": {},
   "outputs": [
    {
     "data": {
      "text/plain": [
       "{'accuarcy': 0.7272727272727273,\n",
       " 'f1': 0.7260499634869146,\n",
       " 'precision': 0.7250788427259015,\n",
       " 'recall': 0.7272727272727273,\n",
       " 'confusion_matrix': array([[120,  30],\n",
       "        [ 33,  48]], dtype=int64)}"
      ]
     },
     "execution_count": 96,
     "metadata": {},
     "output_type": "execute_result"
    }
   ],
   "source": [
    "x_train, x_test, y_train, y_test = train_test_split(x, y, test_size = 0.3, stratify = y)\n",
    "gnb = GaussianNB()\n",
    "gnb.fit(x_train, y_train)\n",
    "y_pred = gnb.predict(x_test)\n",
    "\n",
    "reports = get_metrics(y_test, y_pred)\n",
    "reports"
   ]
  },
  {
   "cell_type": "markdown",
   "metadata": {},
   "source": [
    "### KNN"
   ]
  },
  {
   "cell_type": "code",
   "execution_count": 97,
   "metadata": {},
   "outputs": [
    {
     "data": {
      "text/plain": [
       "{'accuarcy': 0.7489177489177489,\n",
       " 'f1': 0.7415163300372248,\n",
       " 'precision': 0.7419785034242865,\n",
       " 'recall': 0.7489177489177489,\n",
       " 'confusion_matrix': array([[129,  21],\n",
       "        [ 37,  44]], dtype=int64)}"
      ]
     },
     "execution_count": 97,
     "metadata": {},
     "output_type": "execute_result"
    }
   ],
   "source": [
    "x_train, x_test, y_train, y_test = train_test_split(x, y, test_size = 0.3, stratify = y)\n",
    "knn = KNeighborsClassifier()\n",
    "k_values = list(range(1, 10))\n",
    "param_grid = {'n_neighbors': k_values}\n",
    "grid_search = GridSearchCV(knn, param_grid, cv=5, scoring='accuracy')\n",
    "grid_search.fit(x_train, y_train)\n",
    "best_k = grid_search.best_params_['n_neighbors']\n",
    "y_pred = grid_search.predict(x_test)\n",
    "\n",
    "reports = get_metrics(y_test, y_pred)\n",
    "reports"
   ]
  },
  {
   "cell_type": "markdown",
   "metadata": {},
   "source": [
    "### MLPClassifier"
   ]
  },
  {
   "cell_type": "code",
   "execution_count": 98,
   "metadata": {},
   "outputs": [
    {
     "data": {
      "text/plain": [
       "{'accuarcy': 0.8051948051948052,\n",
       " 'f1': 0.803016884345034,\n",
       " 'precision': 0.8024326336428248,\n",
       " 'recall': 0.8051948051948052,\n",
       " 'confusion_matrix': array([[131,  19],\n",
       "        [ 26,  55]], dtype=int64)}"
      ]
     },
     "execution_count": 98,
     "metadata": {},
     "output_type": "execute_result"
    }
   ],
   "source": [
    "x_train, x_test, y_train, y_test = train_test_split(x, y, test_size = 0.3, stratify = y)\n",
    "clf = MLPClassifier(hidden_layer_sizes=(8),activation=\"logistic\",random_state=1,learning_rate_init=0.01, max_iter=500)\n",
    "clf.fit(x_train, y_train)\n",
    "y_pred = clf.predict(x_test)\n",
    "\n",
    "reports = get_metrics(y_test, y_pred)\n",
    "reports"
   ]
  },
  {
   "cell_type": "markdown",
   "metadata": {},
   "source": [
    "### Support Vector Machines "
   ]
  },
  {
   "cell_type": "code",
   "execution_count": 99,
   "metadata": {},
   "outputs": [
    {
     "data": {
      "text/plain": [
       "{'accuarcy': 0.7359307359307359,\n",
       " 'f1': 0.7249037831658631,\n",
       " 'precision': 0.7274246221614643,\n",
       " 'recall': 0.7359307359307359,\n",
       " 'confusion_matrix': array([[130,  20],\n",
       "        [ 41,  40]], dtype=int64)}"
      ]
     },
     "execution_count": 99,
     "metadata": {},
     "output_type": "execute_result"
    }
   ],
   "source": [
    "x_train, x_test, y_train, y_test = train_test_split(x, y, test_size = 0.3, stratify = y)\n",
    "clf = svm.SVC()\n",
    "clf.fit(x_train, y_train)\n",
    "y_pred = clf.predict(x_test)\n",
    "\n",
    "reports = get_metrics(y_test, y_pred)\n",
    "reports"
   ]
  }
 ],
 "metadata": {
  "kernelspec": {
   "display_name": "Python 3",
   "language": "python",
   "name": "python3"
  },
  "language_info": {
   "codemirror_mode": {
    "name": "ipython",
    "version": 3
   },
   "file_extension": ".py",
   "mimetype": "text/x-python",
   "name": "python",
   "nbconvert_exporter": "python",
   "pygments_lexer": "ipython3",
   "version": "3.12.2"
  }
 },
 "nbformat": 4,
 "nbformat_minor": 2
}
